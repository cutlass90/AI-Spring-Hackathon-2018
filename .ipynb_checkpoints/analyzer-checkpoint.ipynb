{
 "cells": [
  {
   "cell_type": "code",
   "execution_count": 1,
   "metadata": {},
   "outputs": [],
   "source": [
    "import pandas as pd\n",
    "from polyglot.text import Text"
   ]
  },
  {
   "cell_type": "code",
   "execution_count": 3,
   "metadata": {},
   "outputs": [],
   "source": [
    "path = '../data/test.csv'"
   ]
  },
  {
   "cell_type": "code",
   "execution_count": 4,
   "metadata": {},
   "outputs": [
    {
     "name": "stderr",
     "output_type": "stream",
     "text": [
      "/home/nazar/AI_Spring_hackathon_2018/env/lib/python3.5/site-packages/IPython/core/interactiveshell.py:2728: DtypeWarning: Columns (4) have mixed types. Specify dtype option on import or set low_memory=False.\n",
      "  interactivity=interactivity, compiler=compiler, result=result)\n"
     ]
    }
   ],
   "source": [
    "df = pd.read_csv(path)"
   ]
  },
  {
   "cell_type": "code",
   "execution_count": 5,
   "metadata": {},
   "outputs": [
    {
     "data": {
      "text/plain": [
       "Index(['comment', 'comment_id', 'company_id', 'date_created', 'month_created',\n",
       "       'product_id', 'rating', 'user_agent', 'user_date_created', 'user_id',\n",
       "       'user_ip'],\n",
       "      dtype='object')"
      ]
     },
     "execution_count": 5,
     "metadata": {},
     "output_type": "execute_result"
    }
   ],
   "source": [
    "df.columns"
   ]
  },
  {
   "cell_type": "code",
   "execution_count": 6,
   "metadata": {},
   "outputs": [
    {
     "data": {
      "text/html": [
       "<div>\n",
       "<style scoped>\n",
       "    .dataframe tbody tr th:only-of-type {\n",
       "        vertical-align: middle;\n",
       "    }\n",
       "\n",
       "    .dataframe tbody tr th {\n",
       "        vertical-align: top;\n",
       "    }\n",
       "\n",
       "    .dataframe thead th {\n",
       "        text-align: right;\n",
       "    }\n",
       "</style>\n",
       "<table border=\"1\" class=\"dataframe\">\n",
       "  <thead>\n",
       "    <tr style=\"text-align: right;\">\n",
       "      <th></th>\n",
       "      <th>comment</th>\n",
       "      <th>comment_id</th>\n",
       "      <th>company_id</th>\n",
       "      <th>date_created</th>\n",
       "      <th>month_created</th>\n",
       "      <th>product_id</th>\n",
       "      <th>rating</th>\n",
       "      <th>user_agent</th>\n",
       "      <th>user_date_created</th>\n",
       "      <th>user_id</th>\n",
       "      <th>user_ip</th>\n",
       "    </tr>\n",
       "  </thead>\n",
       "  <tbody>\n",
       "    <tr>\n",
       "      <th>0</th>\n",
       "      <td>спасибо все отлично, качество как на картинке,...</td>\n",
       "      <td>1655822</td>\n",
       "      <td>2214161</td>\n",
       "      <td>2018-03-19 21:36:07</td>\n",
       "      <td>2018-03</td>\n",
       "      <td>1301549.0</td>\n",
       "      <td>5</td>\n",
       "      <td>NaN</td>\n",
       "      <td>2017-11-01 00:00:46</td>\n",
       "      <td>12969242</td>\n",
       "      <td>NaN</td>\n",
       "    </tr>\n",
       "    <tr>\n",
       "      <th>1</th>\n",
       "      <td>Заказывала шоколад Риттер Спорт 10 шт. К сожал...</td>\n",
       "      <td>1655823</td>\n",
       "      <td>2333068</td>\n",
       "      <td>2017-12-10 13:46:49</td>\n",
       "      <td>2017-12</td>\n",
       "      <td>699700.0</td>\n",
       "      <td>5</td>\n",
       "      <td>Mozilla/5.0 (Windows NT 6.1) AppleWebKit/537.3...</td>\n",
       "      <td>2017-11-01 00:02:19</td>\n",
       "      <td>12969248</td>\n",
       "      <td>91.90.13.210</td>\n",
       "    </tr>\n",
       "    <tr>\n",
       "      <th>2</th>\n",
       "      <td>Быстро отзвонились, охотно отвечали на все воп...</td>\n",
       "      <td>1655824</td>\n",
       "      <td>752692</td>\n",
       "      <td>2017-11-01 00:07:38</td>\n",
       "      <td>2017-11</td>\n",
       "      <td>NaN</td>\n",
       "      <td>5</td>\n",
       "      <td>Mozilla/5.0 (Windows NT 6.1; rv:38.0) Gecko/20...</td>\n",
       "      <td>2017-11-01 00:02:44</td>\n",
       "      <td>12969251</td>\n",
       "      <td>93.115.95.204</td>\n",
       "    </tr>\n",
       "    <tr>\n",
       "      <th>3</th>\n",
       "      <td>Очень оперативный и внимательный к покупателю ...</td>\n",
       "      <td>1655825</td>\n",
       "      <td>334751</td>\n",
       "      <td>2017-11-20 23:40:01</td>\n",
       "      <td>2017-11</td>\n",
       "      <td>1279247.0</td>\n",
       "      <td>5</td>\n",
       "      <td>Mozilla/5.0 (Windows NT 6.1; Win64; x64) Apple...</td>\n",
       "      <td>2017-11-01 00:02:44</td>\n",
       "      <td>12969251</td>\n",
       "      <td>37.28.153.28</td>\n",
       "    </tr>\n",
       "    <tr>\n",
       "      <th>4</th>\n",
       "      <td>Все прошло очень оперативно! Заказ привезли в ...</td>\n",
       "      <td>1655826</td>\n",
       "      <td>2263650</td>\n",
       "      <td>2017-11-20 23:39:51</td>\n",
       "      <td>2017-11</td>\n",
       "      <td>1225545.0</td>\n",
       "      <td>5</td>\n",
       "      <td>Mozilla/5.0 (Windows NT 6.1; Win64; x64) Apple...</td>\n",
       "      <td>2017-11-01 00:02:44</td>\n",
       "      <td>12969251</td>\n",
       "      <td>37.28.153.28</td>\n",
       "    </tr>\n",
       "  </tbody>\n",
       "</table>\n",
       "</div>"
      ],
      "text/plain": [
       "                                             comment  comment_id  company_id  \\\n",
       "0  спасибо все отлично, качество как на картинке,...     1655822     2214161   \n",
       "1  Заказывала шоколад Риттер Спорт 10 шт. К сожал...     1655823     2333068   \n",
       "2  Быстро отзвонились, охотно отвечали на все воп...     1655824      752692   \n",
       "3  Очень оперативный и внимательный к покупателю ...     1655825      334751   \n",
       "4  Все прошло очень оперативно! Заказ привезли в ...     1655826     2263650   \n",
       "\n",
       "          date_created month_created  product_id  rating  \\\n",
       "0  2018-03-19 21:36:07       2018-03   1301549.0       5   \n",
       "1  2017-12-10 13:46:49       2017-12    699700.0       5   \n",
       "2  2017-11-01 00:07:38       2017-11         NaN       5   \n",
       "3  2017-11-20 23:40:01       2017-11   1279247.0       5   \n",
       "4  2017-11-20 23:39:51       2017-11   1225545.0       5   \n",
       "\n",
       "                                          user_agent    user_date_created  \\\n",
       "0                                                NaN  2017-11-01 00:00:46   \n",
       "1  Mozilla/5.0 (Windows NT 6.1) AppleWebKit/537.3...  2017-11-01 00:02:19   \n",
       "2  Mozilla/5.0 (Windows NT 6.1; rv:38.0) Gecko/20...  2017-11-01 00:02:44   \n",
       "3  Mozilla/5.0 (Windows NT 6.1; Win64; x64) Apple...  2017-11-01 00:02:44   \n",
       "4  Mozilla/5.0 (Windows NT 6.1; Win64; x64) Apple...  2017-11-01 00:02:44   \n",
       "\n",
       "    user_id        user_ip  \n",
       "0  12969242            NaN  \n",
       "1  12969248   91.90.13.210  \n",
       "2  12969251  93.115.95.204  \n",
       "3  12969251   37.28.153.28  \n",
       "4  12969251   37.28.153.28  "
      ]
     },
     "execution_count": 6,
     "metadata": {},
     "output_type": "execute_result"
    }
   ],
   "source": [
    "df.head()"
   ]
  },
  {
   "cell_type": "code",
   "execution_count": 7,
   "metadata": {},
   "outputs": [],
   "source": [
    "tokenized = [Text(comment) for comment in df.comment[:10]]"
   ]
  },
  {
   "cell_type": "code",
   "execution_count": 8,
   "metadata": {},
   "outputs": [
    {
     "data": {
      "text/plain": [
       "[Text(\"спасибо все отлично, качество как на картинке, очень доброжелательные))\"),\n",
       " Text(\"Заказывала шоколад Риттер Спорт 10 шт. К сожалению, одной позиции не оказалось в наличии, но не страшно, заменили на другой по моему выбору, очень вкусный оказался. Позвонили утром след. дня, после заказа, так как я заказывала поздно вечером. Доставили быстро. Спасибо, буду заказывать еще.\"),\n",
       " Text(\"Быстро отзвонились, охотно отвечали на все вопросы,  товар дошел целым,  что немаловажно. Доволен сервисом и буду заказывать снова\"),\n",
       " Text(\"Очень оперативный и внимательный к покупателю продавец. Большой ассортимент качественного товара. Адекватные цены. Понадобится товар из этого ассортимента, покупать буду только здесь и другим посоветую.\"),\n",
       " Text(\"Все прошло очень оперативно! Заказ привезли в этот же день! Я доволен.\"),\n",
       " Text(\"Отличная компания. Очень оперативно и качественно оказали услугу. Довольна всем. В дальнейшем буду пользоваться услугами этой компании. От всей души желаю ей процветания. \"),\n",
       " Text(\"Все четко. Заказал наложенным платежом. Пришел на почту. Оплатил. Спасибо!\"),\n",
       " Text(\"Компетентность, оперативность, пунктуальность. Особо отмечу доброжелательность. Огромное спасибо\"),\n",
       " Text(\"Такой быстрой доставки еще не встречал. Все просто замечательно, порадовали. Спасибо!\"),\n",
       " Text(\"Заказ выполнен в срок, адекватная цена, без проблем изменил оплату с безналичного на наложенный платёж. Нареканий к качеству товара нет.\")]"
      ]
     },
     "execution_count": 8,
     "metadata": {},
     "output_type": "execute_result"
    }
   ],
   "source": []
  },
  {
   "cell_type": "code",
   "execution_count": null,
   "metadata": {},
   "outputs": [],
   "source": []
  }
 ],
 "metadata": {
  "kernelspec": {
   "display_name": "Python 3",
   "language": "python",
   "name": "python3"
  },
  "language_info": {
   "codemirror_mode": {
    "name": "ipython",
    "version": 3
   },
   "file_extension": ".py",
   "mimetype": "text/x-python",
   "name": "python",
   "nbconvert_exporter": "python",
   "pygments_lexer": "ipython3",
   "version": "3.5.2"
  }
 },
 "nbformat": 4,
 "nbformat_minor": 2
}
