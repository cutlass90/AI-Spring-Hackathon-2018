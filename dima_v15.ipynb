{
 "cells": [
  {
   "cell_type": "code",
   "execution_count": 1,
   "metadata": {},
   "outputs": [],
   "source": [
    "import gc\n",
    "from collections import Counter\n",
    "from functools import partial\n",
    "\n",
    "import pandas as pd\n",
    "import numpy as np\n",
    "from sklearn.feature_extraction.text import CountVectorizer\n",
    "from sklearn.metrics import f1_score, log_loss\n",
    "from sklearn.ensemble import RandomForestClassifier"
   ]
  },
  {
   "cell_type": "code",
   "execution_count": 2,
   "metadata": {},
   "outputs": [
    {
     "name": "stderr",
     "output_type": "stream",
     "text": [
      "/home/dima/python/competitions/promua/env/lib/python3.5/site-packages/IPython/core/interactiveshell.py:2728: DtypeWarning: Columns (4) have mixed types. Specify dtype option on import or set low_memory=False.\n",
      "  interactivity=interactivity, compiler=compiler, result=result)\n"
     ]
    }
   ],
   "source": [
    "train_df = pd.read_csv(\"data/ds-ai-spring-hack/train.csv\")\n",
    "test_df = pd.read_csv(\"data/ds-ai-spring-hack/test.csv\")"
   ]
  },
  {
   "cell_type": "code",
   "execution_count": 3,
   "metadata": {},
   "outputs": [
    {
     "data": {
      "text/html": [
       "<div>\n",
       "<style scoped>\n",
       "    .dataframe tbody tr th:only-of-type {\n",
       "        vertical-align: middle;\n",
       "    }\n",
       "\n",
       "    .dataframe tbody tr th {\n",
       "        vertical-align: top;\n",
       "    }\n",
       "\n",
       "    .dataframe thead th {\n",
       "        text-align: right;\n",
       "    }\n",
       "</style>\n",
       "<table border=\"1\" class=\"dataframe\">\n",
       "  <thead>\n",
       "    <tr style=\"text-align: right;\">\n",
       "      <th></th>\n",
       "      <th>comment_id</th>\n",
       "      <th>company_id</th>\n",
       "      <th>user_id</th>\n",
       "      <th>product_id</th>\n",
       "      <th>comment</th>\n",
       "      <th>rating</th>\n",
       "      <th>date_created</th>\n",
       "      <th>user_date_created</th>\n",
       "      <th>user_ip</th>\n",
       "      <th>user_agent</th>\n",
       "      <th>is_fake</th>\n",
       "    </tr>\n",
       "  </thead>\n",
       "  <tbody>\n",
       "    <tr>\n",
       "      <th>0</th>\n",
       "      <td>1</td>\n",
       "      <td>2169053</td>\n",
       "      <td>91933</td>\n",
       "      <td>6.0</td>\n",
       "      <td>компания не выполнила заказ без  обьяснения пр...</td>\n",
       "      <td>1</td>\n",
       "      <td>2014-10-23 20:26:44</td>\n",
       "      <td>2010-02-03 21:03:22</td>\n",
       "      <td>178.92.70.220</td>\n",
       "      <td>Mozilla/5.0 (Windows NT 6.1) AppleWebKit/537.3...</td>\n",
       "      <td>False</td>\n",
       "    </tr>\n",
       "    <tr>\n",
       "      <th>1</th>\n",
       "      <td>2</td>\n",
       "      <td>709306</td>\n",
       "      <td>91933</td>\n",
       "      <td>2.0</td>\n",
       "      <td>Впервые встретился такой професиональный, отве...</td>\n",
       "      <td>5</td>\n",
       "      <td>2016-12-10 08:38:27</td>\n",
       "      <td>2010-02-03 21:03:22</td>\n",
       "      <td>94.179.59.162</td>\n",
       "      <td>Mozilla/5.0 (Linux; Android 5.1.1; C6602 Build...</td>\n",
       "      <td>False</td>\n",
       "    </tr>\n",
       "    <tr>\n",
       "      <th>2</th>\n",
       "      <td>3</td>\n",
       "      <td>35287</td>\n",
       "      <td>91933</td>\n",
       "      <td>NaN</td>\n",
       "      <td>Несерйозная, некоректная менеджер інтернет маг...</td>\n",
       "      <td>1</td>\n",
       "      <td>2017-02-11 15:55:14</td>\n",
       "      <td>2010-02-03 21:03:22</td>\n",
       "      <td>37.73.137.188</td>\n",
       "      <td>Mozilla/5.0 (Linux; Android 6.0; ASUS_X008D Bu...</td>\n",
       "      <td>False</td>\n",
       "    </tr>\n",
       "    <tr>\n",
       "      <th>3</th>\n",
       "      <td>4</td>\n",
       "      <td>1778322</td>\n",
       "      <td>91933</td>\n",
       "      <td>1.0</td>\n",
       "      <td>Не рекомендую. Не отвечают, не выполняют заказы.</td>\n",
       "      <td>1</td>\n",
       "      <td>2017-06-26 18:00:45</td>\n",
       "      <td>2010-02-03 21:03:22</td>\n",
       "      <td>37.73.149.180</td>\n",
       "      <td>Mozilla/5.0 (Linux; Android 6.0; ASUS_X008D Bu...</td>\n",
       "      <td>False</td>\n",
       "    </tr>\n",
       "    <tr>\n",
       "      <th>4</th>\n",
       "      <td>5</td>\n",
       "      <td>2821533</td>\n",
       "      <td>91933</td>\n",
       "      <td>NaN</td>\n",
       "      <td>На письма не отвечают, заказы не выполняют. Не...</td>\n",
       "      <td>1</td>\n",
       "      <td>2017-07-06 16:57:40</td>\n",
       "      <td>2010-02-03 21:03:22</td>\n",
       "      <td>37.73.221.126</td>\n",
       "      <td>Mozilla/5.0 (Linux; Android 6.0; ASUS_X008D Bu...</td>\n",
       "      <td>False</td>\n",
       "    </tr>\n",
       "  </tbody>\n",
       "</table>\n",
       "</div>"
      ],
      "text/plain": [
       "   comment_id  company_id  user_id  product_id  \\\n",
       "0           1     2169053    91933         6.0   \n",
       "1           2      709306    91933         2.0   \n",
       "2           3       35287    91933         NaN   \n",
       "3           4     1778322    91933         1.0   \n",
       "4           5     2821533    91933         NaN   \n",
       "\n",
       "                                             comment  rating  \\\n",
       "0  компания не выполнила заказ без  обьяснения пр...       1   \n",
       "1  Впервые встретился такой професиональный, отве...       5   \n",
       "2  Несерйозная, некоректная менеджер інтернет маг...       1   \n",
       "3   Не рекомендую. Не отвечают, не выполняют заказы.       1   \n",
       "4  На письма не отвечают, заказы не выполняют. Не...       1   \n",
       "\n",
       "          date_created    user_date_created        user_ip  \\\n",
       "0  2014-10-23 20:26:44  2010-02-03 21:03:22  178.92.70.220   \n",
       "1  2016-12-10 08:38:27  2010-02-03 21:03:22  94.179.59.162   \n",
       "2  2017-02-11 15:55:14  2010-02-03 21:03:22  37.73.137.188   \n",
       "3  2017-06-26 18:00:45  2010-02-03 21:03:22  37.73.149.180   \n",
       "4  2017-07-06 16:57:40  2010-02-03 21:03:22  37.73.221.126   \n",
       "\n",
       "                                          user_agent  is_fake  \n",
       "0  Mozilla/5.0 (Windows NT 6.1) AppleWebKit/537.3...    False  \n",
       "1  Mozilla/5.0 (Linux; Android 5.1.1; C6602 Build...    False  \n",
       "2  Mozilla/5.0 (Linux; Android 6.0; ASUS_X008D Bu...    False  \n",
       "3  Mozilla/5.0 (Linux; Android 6.0; ASUS_X008D Bu...    False  \n",
       "4  Mozilla/5.0 (Linux; Android 6.0; ASUS_X008D Bu...    False  "
      ]
     },
     "execution_count": 3,
     "metadata": {},
     "output_type": "execute_result"
    }
   ],
   "source": [
    "train_df.head()"
   ]
  },
  {
   "cell_type": "code",
   "execution_count": 4,
   "metadata": {},
   "outputs": [
    {
     "data": {
      "text/plain": [
       "(1281499, 11)"
      ]
     },
     "execution_count": 4,
     "metadata": {},
     "output_type": "execute_result"
    }
   ],
   "source": [
    "train_df.shape"
   ]
  },
  {
   "cell_type": "code",
   "execution_count": 5,
   "metadata": {},
   "outputs": [
    {
     "data": {
      "text/plain": [
       "Index(['comment_id', 'company_id', 'user_id', 'product_id', 'comment',\n",
       "       'rating', 'date_created', 'user_date_created', 'user_ip', 'user_agent',\n",
       "       'is_fake'],\n",
       "      dtype='object')"
      ]
     },
     "execution_count": 5,
     "metadata": {},
     "output_type": "execute_result"
    }
   ],
   "source": [
    "train_df.columns"
   ]
  },
  {
   "cell_type": "code",
   "execution_count": 6,
   "metadata": {},
   "outputs": [
    {
     "data": {
      "text/html": [
       "<div>\n",
       "<style scoped>\n",
       "    .dataframe tbody tr th:only-of-type {\n",
       "        vertical-align: middle;\n",
       "    }\n",
       "\n",
       "    .dataframe tbody tr th {\n",
       "        vertical-align: top;\n",
       "    }\n",
       "\n",
       "    .dataframe thead th {\n",
       "        text-align: right;\n",
       "    }\n",
       "</style>\n",
       "<table border=\"1\" class=\"dataframe\">\n",
       "  <thead>\n",
       "    <tr style=\"text-align: right;\">\n",
       "      <th></th>\n",
       "      <th>comment</th>\n",
       "      <th>comment_id</th>\n",
       "      <th>company_id</th>\n",
       "      <th>date_created</th>\n",
       "      <th>month_created</th>\n",
       "      <th>product_id</th>\n",
       "      <th>rating</th>\n",
       "      <th>user_agent</th>\n",
       "      <th>user_date_created</th>\n",
       "      <th>user_id</th>\n",
       "      <th>user_ip</th>\n",
       "    </tr>\n",
       "  </thead>\n",
       "  <tbody>\n",
       "    <tr>\n",
       "      <th>0</th>\n",
       "      <td>спасибо все отлично, качество как на картинке,...</td>\n",
       "      <td>1655822</td>\n",
       "      <td>2214161</td>\n",
       "      <td>2018-03-19 21:36:07</td>\n",
       "      <td>2018-03</td>\n",
       "      <td>1301549.0</td>\n",
       "      <td>5</td>\n",
       "      <td>NaN</td>\n",
       "      <td>2017-11-01 00:00:46</td>\n",
       "      <td>12969242</td>\n",
       "      <td>NaN</td>\n",
       "    </tr>\n",
       "    <tr>\n",
       "      <th>1</th>\n",
       "      <td>Заказывала шоколад Риттер Спорт 10 шт. К сожал...</td>\n",
       "      <td>1655823</td>\n",
       "      <td>2333068</td>\n",
       "      <td>2017-12-10 13:46:49</td>\n",
       "      <td>2017-12</td>\n",
       "      <td>699700.0</td>\n",
       "      <td>5</td>\n",
       "      <td>Mozilla/5.0 (Windows NT 6.1) AppleWebKit/537.3...</td>\n",
       "      <td>2017-11-01 00:02:19</td>\n",
       "      <td>12969248</td>\n",
       "      <td>91.90.13.210</td>\n",
       "    </tr>\n",
       "    <tr>\n",
       "      <th>2</th>\n",
       "      <td>Быстро отзвонились, охотно отвечали на все воп...</td>\n",
       "      <td>1655824</td>\n",
       "      <td>752692</td>\n",
       "      <td>2017-11-01 00:07:38</td>\n",
       "      <td>2017-11</td>\n",
       "      <td>NaN</td>\n",
       "      <td>5</td>\n",
       "      <td>Mozilla/5.0 (Windows NT 6.1; rv:38.0) Gecko/20...</td>\n",
       "      <td>2017-11-01 00:02:44</td>\n",
       "      <td>12969251</td>\n",
       "      <td>93.115.95.204</td>\n",
       "    </tr>\n",
       "    <tr>\n",
       "      <th>3</th>\n",
       "      <td>Очень оперативный и внимательный к покупателю ...</td>\n",
       "      <td>1655825</td>\n",
       "      <td>334751</td>\n",
       "      <td>2017-11-20 23:40:01</td>\n",
       "      <td>2017-11</td>\n",
       "      <td>1279247.0</td>\n",
       "      <td>5</td>\n",
       "      <td>Mozilla/5.0 (Windows NT 6.1; Win64; x64) Apple...</td>\n",
       "      <td>2017-11-01 00:02:44</td>\n",
       "      <td>12969251</td>\n",
       "      <td>37.28.153.28</td>\n",
       "    </tr>\n",
       "    <tr>\n",
       "      <th>4</th>\n",
       "      <td>Все прошло очень оперативно! Заказ привезли в ...</td>\n",
       "      <td>1655826</td>\n",
       "      <td>2263650</td>\n",
       "      <td>2017-11-20 23:39:51</td>\n",
       "      <td>2017-11</td>\n",
       "      <td>1225545.0</td>\n",
       "      <td>5</td>\n",
       "      <td>Mozilla/5.0 (Windows NT 6.1; Win64; x64) Apple...</td>\n",
       "      <td>2017-11-01 00:02:44</td>\n",
       "      <td>12969251</td>\n",
       "      <td>37.28.153.28</td>\n",
       "    </tr>\n",
       "  </tbody>\n",
       "</table>\n",
       "</div>"
      ],
      "text/plain": [
       "                                             comment  comment_id  company_id  \\\n",
       "0  спасибо все отлично, качество как на картинке,...     1655822     2214161   \n",
       "1  Заказывала шоколад Риттер Спорт 10 шт. К сожал...     1655823     2333068   \n",
       "2  Быстро отзвонились, охотно отвечали на все воп...     1655824      752692   \n",
       "3  Очень оперативный и внимательный к покупателю ...     1655825      334751   \n",
       "4  Все прошло очень оперативно! Заказ привезли в ...     1655826     2263650   \n",
       "\n",
       "          date_created month_created  product_id  rating  \\\n",
       "0  2018-03-19 21:36:07       2018-03   1301549.0       5   \n",
       "1  2017-12-10 13:46:49       2017-12    699700.0       5   \n",
       "2  2017-11-01 00:07:38       2017-11         NaN       5   \n",
       "3  2017-11-20 23:40:01       2017-11   1279247.0       5   \n",
       "4  2017-11-20 23:39:51       2017-11   1225545.0       5   \n",
       "\n",
       "                                          user_agent    user_date_created  \\\n",
       "0                                                NaN  2017-11-01 00:00:46   \n",
       "1  Mozilla/5.0 (Windows NT 6.1) AppleWebKit/537.3...  2017-11-01 00:02:19   \n",
       "2  Mozilla/5.0 (Windows NT 6.1; rv:38.0) Gecko/20...  2017-11-01 00:02:44   \n",
       "3  Mozilla/5.0 (Windows NT 6.1; Win64; x64) Apple...  2017-11-01 00:02:44   \n",
       "4  Mozilla/5.0 (Windows NT 6.1; Win64; x64) Apple...  2017-11-01 00:02:44   \n",
       "\n",
       "    user_id        user_ip  \n",
       "0  12969242            NaN  \n",
       "1  12969248   91.90.13.210  \n",
       "2  12969251  93.115.95.204  \n",
       "3  12969251   37.28.153.28  \n",
       "4  12969251   37.28.153.28  "
      ]
     },
     "execution_count": 6,
     "metadata": {},
     "output_type": "execute_result"
    }
   ],
   "source": [
    "test_df.head()"
   ]
  },
  {
   "cell_type": "code",
   "execution_count": 7,
   "metadata": {},
   "outputs": [
    {
     "data": {
      "text/plain": [
       "(252099, 11)"
      ]
     },
     "execution_count": 7,
     "metadata": {},
     "output_type": "execute_result"
    }
   ],
   "source": [
    "test_df.shape"
   ]
  },
  {
   "cell_type": "code",
   "execution_count": 8,
   "metadata": {},
   "outputs": [
    {
     "data": {
      "text/plain": [
       "[(2648571, 2901),\n",
       " (42440, 2850),\n",
       " (1892310, 2768),\n",
       " (277907, 2755),\n",
       " (1980780, 2649),\n",
       " (1280427, 2316),\n",
       " (893220, 2121),\n",
       " (210989, 1985),\n",
       " (364050, 1894),\n",
       " (1731900, 1871)]"
      ]
     },
     "execution_count": 8,
     "metadata": {},
     "output_type": "execute_result"
    }
   ],
   "source": [
    "Counter(train_df.company_id).most_common(10)"
   ]
  },
  {
   "cell_type": "code",
   "execution_count": 9,
   "metadata": {},
   "outputs": [],
   "source": [
    "def create_time_features(df):\n",
    "    \n",
    "    comment_registration_delta = pd.to_datetime(df.date_created) - pd.to_datetime(df.user_date_created)\n",
    "    comment_registration_delta = comment_registration_delta.astype(\"timedelta64[D]\")\n",
    "    df[\"registration_comment_delta_days\"] = np.log(comment_registration_delta)\n",
    "    \n",
    "    hour = pd.to_datetime(df.date_created).dt.hour\n",
    "    \n",
    "    df[\"hour_sin\"] = np.sin(2 * hour * np.pi / 24)\n",
    "    df[\"hour_cos\"] = np.cos(2 * hour * np.pi / 24)\n",
    "    \n",
    "    return df"
   ]
  },
  {
   "cell_type": "code",
   "execution_count": 10,
   "metadata": {},
   "outputs": [
    {
     "name": "stderr",
     "output_type": "stream",
     "text": [
      "/home/dima/python/competitions/promua/env/lib/python3.5/site-packages/ipykernel_launcher.py:5: RuntimeWarning: divide by zero encountered in log\n",
      "  \"\"\"\n"
     ]
    },
    {
     "name": "stdout",
     "output_type": "stream",
     "text": [
      "0          20\n",
      "1           8\n",
      "2          15\n",
      "3          18\n",
      "4          16\n",
      "5          21\n",
      "6          12\n",
      "7          13\n",
      "8          21\n",
      "9          16\n",
      "10         14\n",
      "11          8\n",
      "12         14\n",
      "13          9\n",
      "14         23\n",
      "15         11\n",
      "16         10\n",
      "17         11\n",
      "18         18\n",
      "19         11\n",
      "20         20\n",
      "21         19\n",
      "22         11\n",
      "23         23\n",
      "24          2\n",
      "25         13\n",
      "26         12\n",
      "27         19\n",
      "28         14\n",
      "29         13\n",
      "           ..\n",
      "1281469    12\n",
      "1281470    14\n",
      "1281471    14\n",
      "1281472    14\n",
      "1281473    15\n",
      "1281474    21\n",
      "1281475    16\n",
      "1281476    16\n",
      "1281477    16\n",
      "1281478    16\n",
      "1281479    18\n",
      "1281480    18\n",
      "1281481    19\n",
      "1281482    18\n",
      "1281483    19\n",
      "1281484    22\n",
      "1281485    22\n",
      "1281486    22\n",
      "1281487    22\n",
      "1281488    22\n",
      "1281489    22\n",
      "1281490    22\n",
      "1281491    22\n",
      "1281492    22\n",
      "1281493    22\n",
      "1281494    22\n",
      "1281495    22\n",
      "1281496    22\n",
      "1281497    23\n",
      "1281498    22\n",
      "Name: date_created, Length: 1281499, dtype: int64\n",
      "0         21\n",
      "1         13\n",
      "2          0\n",
      "3         23\n",
      "4         23\n",
      "5         23\n",
      "6         23\n",
      "7         23\n",
      "8          0\n",
      "9         23\n",
      "10        23\n",
      "11        23\n",
      "12        10\n",
      "13        23\n",
      "14        22\n",
      "15        16\n",
      "16         0\n",
      "17        21\n",
      "18        17\n",
      "19         1\n",
      "20        10\n",
      "21        10\n",
      "22        14\n",
      "23        18\n",
      "24        19\n",
      "25         8\n",
      "26         7\n",
      "27        16\n",
      "28        15\n",
      "29         1\n",
      "          ..\n",
      "252069     0\n",
      "252070    19\n",
      "252071    22\n",
      "252072    22\n",
      "252073    10\n",
      "252074    16\n",
      "252075     9\n",
      "252076    16\n",
      "252077    21\n",
      "252078    15\n",
      "252079    17\n",
      "252080    22\n",
      "252081    16\n",
      "252082    10\n",
      "252083    12\n",
      "252084    23\n",
      "252085    13\n",
      "252086    16\n",
      "252087    16\n",
      "252088    15\n",
      "252089    23\n",
      "252090    15\n",
      "252091    17\n",
      "252092    17\n",
      "252093    21\n",
      "252094    15\n",
      "252095    19\n",
      "252096    21\n",
      "252097    21\n",
      "252098    11\n",
      "Name: date_created, Length: 252099, dtype: int64\n"
     ]
    }
   ],
   "source": [
    "train_df = create_time_features(train_df)\n",
    "test_df = create_time_features(test_df)"
   ]
  },
  {
   "cell_type": "code",
   "execution_count": 11,
   "metadata": {},
   "outputs": [],
   "source": [
    "def create_ip_features(df):\n",
    "    \n",
    "    def _ip_class(ip):\n",
    "        \n",
    "        try:\n",
    "            ip0, ip1, ip2, ip3 = map(int, ip.split(\".\"))\n",
    "            \n",
    "            # 1.0.0.1 to 126.255.255.254\n",
    "            if 126 >= ip0 >= 1 and 255 >= ip1 >= 0 and 255 >= ip2 >= 0 and 254 >= ip3 >= 1:\n",
    "                return 0\n",
    "            # 128.1.0.1 to 191.255.255.254\n",
    "            elif 191 >= ip0 >= 128 and 255 >= ip1 >= 1 and 255 >= ip2 >= 0 and 254 >= ip3 >= 1:\n",
    "                return 1\n",
    "            # 192.0.1.1 to 223.255.254.254\n",
    "            elif 223 >= ip0 >= 192 and 255 >= ip1 >= 1 and 254 >= ip2 >= 0 and 254 >= ip3 >= 1:\n",
    "                return 2\n",
    "            # 224.0.0.0 to 239.255.255.255\n",
    "            elif 239 >= ip0 >= 224 and 255 >= ip1 >= 0 and 255 >= ip2 >= 0 and 255 >= ip3 >= 0:\n",
    "                return 3\n",
    "            # 240.0.0.0 to 254.255.255.254\n",
    "            elif 254 >= ip0 >= 240 and 255 >= ip1 >= 0 and 255 >= ip2 >= 0 and 254 >= ip3 >= 0:\n",
    "                return 4\n",
    "            else:\n",
    "                return 5\n",
    "        except:\n",
    "            return 6\n",
    "        \n",
    "    df[\"ip_class\"] = df.user_ip.astype(str).apply(_ip_class)\n",
    "    \n",
    "    return df"
   ]
  },
  {
   "cell_type": "code",
   "execution_count": 12,
   "metadata": {},
   "outputs": [],
   "source": [
    "def create_text_features(df):\n",
    "    \n",
    "    df[\"comment_length\"] = df.comment.apply(len)\n",
    "    return df"
   ]
  },
  {
   "cell_type": "code",
   "execution_count": 13,
   "metadata": {},
   "outputs": [],
   "source": [
    "train_df = create_text_features(train_df)\n",
    "test_df = create_text_features(test_df)"
   ]
  },
  {
   "cell_type": "code",
   "execution_count": null,
   "metadata": {},
   "outputs": [],
   "source": [
    "count_vectorizer = CountVectorizer(min_df=0.01, max_df=0.2)\n",
    "train_comment_vectorized = count_vectorizer.fit_transform(train_df.comment.astype(\"str\"))\n",
    "test_comment_vectorized = count_vectorizer.transform(test_df.comment.astype(\"str\"))"
   ]
  },
  {
   "cell_type": "code",
   "execution_count": null,
   "metadata": {},
   "outputs": [],
   "source": [
    "count_vectorizer = CountVectorizer(min_df=0.05)\n",
    "train_agent_vectorized = count_vectorizer.fit_transform(train_df.user_agent.astype(\"str\"))\n",
    "test_agent_vectorized = count_vectorizer.transform(test_df.user_agent.astype(\"str\"))"
   ]
  },
  {
   "cell_type": "code",
   "execution_count": null,
   "metadata": {},
   "outputs": [],
   "source": [
    "y_train = train_df.is_fake"
   ]
  },
  {
   "cell_type": "code",
   "execution_count": null,
   "metadata": {},
   "outputs": [],
   "source": [
    "categorical_columns = [\n",
    "    \"rating\"\n",
    "]"
   ]
  },
  {
   "cell_type": "code",
   "execution_count": null,
   "metadata": {},
   "outputs": [],
   "source": [
    "to_drop = [\n",
    "    \"comment\", \"comment_id\", \"product_id\", \"date_created\",\n",
    "    \"user_date_created\", \"user_ip\", \"user_agent\", \"user_id\", \"company_id\"\n",
    "]"
   ]
  },
  {
   "cell_type": "code",
   "execution_count": null,
   "metadata": {},
   "outputs": [],
   "source": [
    "X_train = pd.concat(\n",
    "    [\n",
    "        train_df.drop(to_drop + [\"is_fake\"], axis=1),\n",
    "        pd.DataFrame(train_comment_vectorized.todense()),\n",
    "        pd.DataFrame(train_agent_vectorized.todense())\n",
    "    ],\n",
    "    axis=1\n",
    ")\n",
    "    \n",
    "X_test = pd.concat(\n",
    "    [\n",
    "        test_df.drop(to_drop + [\"month_created\"], axis=1),\n",
    "        pd.DataFrame(test_comment_vectorized.todense()),\n",
    "        pd.DataFrame(test_agent_vectorized.todense())\n",
    "    ],\n",
    "    axis=1\n",
    ")"
   ]
  },
  {
   "cell_type": "code",
   "execution_count": null,
   "metadata": {},
   "outputs": [],
   "source": [
    "del train_df, train_comment_vectorized, train_agent_vectorized\n",
    "del test_df, test_comment_vectorized, test_agent_vectorized"
   ]
  },
  {
   "cell_type": "code",
   "execution_count": null,
   "metadata": {},
   "outputs": [],
   "source": [
    "gc.collect()"
   ]
  },
  {
   "cell_type": "code",
   "execution_count": null,
   "metadata": {},
   "outputs": [],
   "source": [
    "print(X_train.shape, X_test.shape)"
   ]
  },
  {
   "cell_type": "code",
   "execution_count": null,
   "metadata": {},
   "outputs": [],
   "source": [
    "import lightgbm as lgb"
   ]
  },
  {
   "cell_type": "code",
   "execution_count": null,
   "metadata": {},
   "outputs": [],
   "source": [
    "lgb_data_train = lgb.Dataset(\n",
    "    X_train,\n",
    "    label=y_train, \n",
    "    free_raw_data=False\n",
    ")"
   ]
  },
  {
   "cell_type": "code",
   "execution_count": null,
   "metadata": {},
   "outputs": [],
   "source": [
    "def lgb_f1_score(preds, dtrain):\n",
    "    labels = dtrain.get_label()\n",
    "    preds = preds > 0.5\n",
    "    \n",
    "    return \"f1_score\", f1_score(labels, preds), True\n",
    "\n",
    "def lgb_binary_loss(preds, dtrain):\n",
    "    labels = dtrain.get_label()\n",
    "    \n",
    "    return \"binary_loss\", log_loss(labels, preds), False\n"
   ]
  },
  {
   "cell_type": "code",
   "execution_count": null,
   "metadata": {},
   "outputs": [],
   "source": [
    "params = {\n",
    "    \"objective\": \"binary\", \n",
    "    \"metric\": \"binary_logloss\", \n",
    "    \"learning_rate\": 0.03, \n",
    "    \"random_state\": 42,\n",
    "    \"scale_pos_weight\": 5,\n",
    "    \"depth\": 3,\n",
    "    \"num_leaves\": 6\n",
    "}"
   ]
  },
  {
   "cell_type": "code",
   "execution_count": null,
   "metadata": {
    "scrolled": false
   },
   "outputs": [],
   "source": [
    "history = lgb.cv(\n",
    "    params,\n",
    "    lgb_data_train,\n",
    "    nfold=5, \n",
    "    num_boost_round=100000,\n",
    "    early_stopping_rounds=50, \n",
    "    verbose_eval=10,\n",
    "    categorical_feature=categorical_columns,\n",
    "    feval=lgb_f1_score\n",
    ")"
   ]
  },
  {
   "cell_type": "code",
   "execution_count": null,
   "metadata": {
    "scrolled": true
   },
   "outputs": [],
   "source": [
    "%%time\n",
    "gbm = lgb.train(\n",
    "    params,\n",
    "    lgb_data_train,\n",
    "    num_boost_round=480,\n",
    "    valid_sets=[lgb_data_train],\n",
    "    feval=lgb_f1_score,\n",
    "    verbose_eval=10\n",
    ") "
   ]
  },
  {
   "cell_type": "code",
   "execution_count": null,
   "metadata": {},
   "outputs": [],
   "source": [
    "submission = pd.read_csv(\"data/ds-ai-spring-hack/sample_submission.csv\")\n",
    "new_test_df = pd.read_csv(\"data/ds-ai-spring-hack/test.csv\")"
   ]
  },
  {
   "cell_type": "code",
   "execution_count": null,
   "metadata": {},
   "outputs": [],
   "source": [
    "test_ids = list(new_test_df.comment_id)"
   ]
  },
  {
   "cell_type": "code",
   "execution_count": null,
   "metadata": {},
   "outputs": [],
   "source": [
    "test_prediction = gbm.predict(X_test)"
   ]
  },
  {
   "cell_type": "code",
   "execution_count": null,
   "metadata": {},
   "outputs": [],
   "source": [
    "test_prediction_clipped = np.clip(test_prediction, 0.1, 0.9)"
   ]
  },
  {
   "cell_type": "code",
   "execution_count": null,
   "metadata": {},
   "outputs": [],
   "source": [
    "test_prediction_binary = test_prediction > 0.5"
   ]
  },
  {
   "cell_type": "code",
   "execution_count": null,
   "metadata": {},
   "outputs": [],
   "source": [
    "print(test_prediction_binary.sum())"
   ]
  },
  {
   "cell_type": "code",
   "execution_count": null,
   "metadata": {},
   "outputs": [],
   "source": [
    "for column, importance in zip(X_train.columns, gbm.feature_importance()):\n",
    "    print(column, importance)"
   ]
  },
  {
   "cell_type": "code",
   "execution_count": null,
   "metadata": {},
   "outputs": [],
   "source": [
    "submission_file = pd.DataFrame(\n",
    "    {\n",
    "        \"comment_id\": test_ids,\n",
    "        \"is_fake\": test_prediction_clipped\n",
    "    }\n",
    ")"
   ]
  },
  {
   "cell_type": "code",
   "execution_count": null,
   "metadata": {},
   "outputs": [],
   "source": [
    "submission_file.to_csv(\"dima_v15_clipped.csv\", index=False)"
   ]
  }
 ],
 "metadata": {
  "kernelspec": {
   "display_name": "Python 3",
   "language": "python",
   "name": "python3"
  },
  "language_info": {
   "codemirror_mode": {
    "name": "ipython",
    "version": 3
   },
   "file_extension": ".py",
   "mimetype": "text/x-python",
   "name": "python",
   "nbconvert_exporter": "python",
   "pygments_lexer": "ipython3",
   "version": "3.5.2"
  }
 },
 "nbformat": 4,
 "nbformat_minor": 2
}
